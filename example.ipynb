{
 "cells": [
  {
   "cell_type": "code",
   "execution_count": null,
   "metadata": {
    "vscode": {
     "languageId": "plaintext"
    }
   },
   "outputs": [],
   "source": [
    "from qiskit import QuantumCircuit, transpile\n",
    "from qiskit_aer import Aer, AerSimulator\n",
    " \n",
    "def demo_function(shotsAmount=1000):\n",
    "    simulator = AerSimulator(method='statevector', device='GPU')\n",
    " \n",
    "    circuit = QuantumCircuit(2, 2)\n",
    "    circuit.h(0)\n",
    "    circuit.cx(0, 1)\n",
    "    circuit.measure([0, 1], [0, 1])\n",
    " \n",
    "    compiled_circuit = transpile(circuit, simulator)\n",
    "    job = simulator.run(compiled_circuit, shots=shotsAmount)\n",
    "    result = job.result()\n",
    "    counts = result.get_counts()\n",
    " \n",
    "    print(\"Total count for 00 and 11 are:\", counts)\n",
    "    print(circuit)\n",
    "    return counts\n",
    " \n",
    "result = demo_function(4000)"
   ]
  }
 ],
 "metadata": {
  "language_info": {
   "name": "python"
  }
 },
 "nbformat": 4,
 "nbformat_minor": 2
}
